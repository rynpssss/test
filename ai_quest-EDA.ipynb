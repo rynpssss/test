{
 "cells": [
  {
   "cell_type": "markdown",
   "metadata": {},
   "source": [
    "# 需要予測の最適化モデル構築"
   ]
  },
  {
   "cell_type": "markdown",
   "metadata": {},
   "source": [
    "**スケジュール（ざっくり）**<br>\n",
    "\n",
    "10/18　モデル構築及び需要予測の進め方検討<br>\n",
    "10/20 EDA<br>\n",
    "10/25　特徴量作成<br>\n",
    "10/29 モデル構築<br>\n",
    "11/1　パラメータ調整<br>\n",
    "11/4　提出"
   ]
  },
  {
   "cell_type": "markdown",
   "metadata": {},
   "source": [
    "## 特徴量メモ（追加したい特徴量）\n",
    "・移動平均<br>\n",
    "・自己回帰<br>\n",
    "・大項目のさらに上を追加<br>\n",
    "・コーザルデータによる暦<br>\n",
    "・コーザルデータによる天気<br>\n",
    "・定価からの割引<br>"
   ]
  },
  {
   "cell_type": "code",
   "execution_count": null,
   "metadata": {},
   "outputs": [],
   "source": []
  },
  {
   "cell_type": "code",
   "execution_count": null,
   "metadata": {},
   "outputs": [],
   "source": []
  },
  {
   "cell_type": "code",
   "execution_count": null,
   "metadata": {},
   "outputs": [],
   "source": []
  },
  {
   "cell_type": "code",
   "execution_count": null,
   "metadata": {},
   "outputs": [],
   "source": []
  },
  {
   "cell_type": "code",
   "execution_count": null,
   "metadata": {},
   "outputs": [],
   "source": []
  },
  {
   "cell_type": "markdown",
   "metadata": {},
   "source": [
    "## データ読み込み"
   ]
  },
  {
   "cell_type": "code",
   "execution_count": 1,
   "metadata": {},
   "outputs": [
    {
     "data": {
      "text/plain": [
       "'/Users/atsushisato/Google_drive/05_PBL/practice_4'"
      ]
     },
     "execution_count": 1,
     "metadata": {},
     "output_type": "execute_result"
    }
   ],
   "source": [
    "pwd"
   ]
  },
  {
   "cell_type": "code",
   "execution_count": 2,
   "metadata": {},
   "outputs": [],
   "source": [
    "import pandas as pd\n",
    "import numpy as np\n",
    "import matplotlib.pyplot as plt\n",
    "# import pandas_profiling as pdp\n",
    "import datetime\n",
    "import jpholiday\n",
    "import statsmodels.api as sm\n",
    "from statsmodels.graphics import tsaplots\n",
    "\n",
    "%matplotlib inline"
   ]
  },
  {
   "cell_type": "code",
   "execution_count": 3,
   "metadata": {},
   "outputs": [],
   "source": [
    "LOCAL_CSV_PATH = '/Users/atsushisato/Google_drive/05_PBL/practice_4/'\n",
    "train_data = pd.read_csv(LOCAL_CSV_PATH + 'sales_history.csv')\n",
    "item_category = pd.read_csv(LOCAL_CSV_PATH + 'item_categories.csv')\n",
    "category_name  =  pd.read_csv(LOCAL_CSV_PATH + 'category_names.csv')"
   ]
  },
  {
   "cell_type": "markdown",
   "metadata": {},
   "source": [
    "## データ確認"
   ]
  },
  {
   "cell_type": "code",
   "execution_count": 4,
   "metadata": {},
   "outputs": [
    {
     "data": {
      "text/html": [
       "<div>\n",
       "<style scoped>\n",
       "    .dataframe tbody tr th:only-of-type {\n",
       "        vertical-align: middle;\n",
       "    }\n",
       "\n",
       "    .dataframe tbody tr th {\n",
       "        vertical-align: top;\n",
       "    }\n",
       "\n",
       "    .dataframe thead th {\n",
       "        text-align: right;\n",
       "    }\n",
       "</style>\n",
       "<table border=\"1\" class=\"dataframe\">\n",
       "  <thead>\n",
       "    <tr style=\"text-align: right;\">\n",
       "      <th></th>\n",
       "      <th>date</th>\n",
       "      <th>store_id</th>\n",
       "      <th>product_id</th>\n",
       "      <th>product_price</th>\n",
       "      <th>sale_num</th>\n",
       "      <th>month</th>\n",
       "    </tr>\n",
       "  </thead>\n",
       "  <tbody>\n",
       "    <tr>\n",
       "      <th>0</th>\n",
       "      <td>2018-01-01</td>\n",
       "      <td>9</td>\n",
       "      <td>1000001</td>\n",
       "      <td>420</td>\n",
       "      <td>1.0</td>\n",
       "      <td>201801</td>\n",
       "    </tr>\n",
       "    <tr>\n",
       "      <th>1</th>\n",
       "      <td>2018-01-01</td>\n",
       "      <td>6</td>\n",
       "      <td>1000001</td>\n",
       "      <td>420</td>\n",
       "      <td>1.0</td>\n",
       "      <td>201801</td>\n",
       "    </tr>\n",
       "    <tr>\n",
       "      <th>2</th>\n",
       "      <td>2018-01-01</td>\n",
       "      <td>10</td>\n",
       "      <td>1000001</td>\n",
       "      <td>420</td>\n",
       "      <td>1.0</td>\n",
       "      <td>201801</td>\n",
       "    </tr>\n",
       "    <tr>\n",
       "      <th>3</th>\n",
       "      <td>2018-01-01</td>\n",
       "      <td>0</td>\n",
       "      <td>1000017</td>\n",
       "      <td>250</td>\n",
       "      <td>1.0</td>\n",
       "      <td>201801</td>\n",
       "    </tr>\n",
       "    <tr>\n",
       "      <th>4</th>\n",
       "      <td>2018-01-01</td>\n",
       "      <td>1</td>\n",
       "      <td>1000017</td>\n",
       "      <td>250</td>\n",
       "      <td>1.0</td>\n",
       "      <td>201801</td>\n",
       "    </tr>\n",
       "  </tbody>\n",
       "</table>\n",
       "</div>"
      ],
      "text/plain": [
       "        date  store_id  product_id  product_price  sale_num   month\n",
       "0 2018-01-01         9     1000001            420       1.0  201801\n",
       "1 2018-01-01         6     1000001            420       1.0  201801\n",
       "2 2018-01-01        10     1000001            420       1.0  201801\n",
       "3 2018-01-01         0     1000017            250       1.0  201801\n",
       "4 2018-01-01         1     1000017            250       1.0  201801"
      ]
     },
     "execution_count": 4,
     "metadata": {},
     "output_type": "execute_result"
    }
   ],
   "source": [
    "train_data = train_data.rename(columns={'日付':'date', '商品ID':'product_id',\n",
    "                                              '店舗ID':'store_id', '商品価格':'product_price', '売上個数':'sale_num'})\n",
    "train_data['date'] = pd.to_datetime(train_data['date'])\n",
    "train_data['month'] =  pd.to_datetime(train_data['date']).dt.strftime('%Y%m')\n",
    "train_data.head()"
   ]
  },
  {
   "cell_type": "code",
   "execution_count": 5,
   "metadata": {},
   "outputs": [
    {
     "data": {
      "text/html": [
       "<div>\n",
       "<style scoped>\n",
       "    .dataframe tbody tr th:only-of-type {\n",
       "        vertical-align: middle;\n",
       "    }\n",
       "\n",
       "    .dataframe tbody tr th {\n",
       "        vertical-align: top;\n",
       "    }\n",
       "\n",
       "    .dataframe thead th {\n",
       "        text-align: right;\n",
       "    }\n",
       "</style>\n",
       "<table border=\"1\" class=\"dataframe\">\n",
       "  <thead>\n",
       "    <tr style=\"text-align: right;\">\n",
       "      <th></th>\n",
       "      <th>product_id</th>\n",
       "      <th>product_categoryId</th>\n",
       "    </tr>\n",
       "  </thead>\n",
       "  <tbody>\n",
       "    <tr>\n",
       "      <th>0</th>\n",
       "      <td>1000001</td>\n",
       "      <td>100</td>\n",
       "    </tr>\n",
       "    <tr>\n",
       "      <th>1</th>\n",
       "      <td>1000002</td>\n",
       "      <td>100</td>\n",
       "    </tr>\n",
       "    <tr>\n",
       "      <th>2</th>\n",
       "      <td>1000003</td>\n",
       "      <td>100</td>\n",
       "    </tr>\n",
       "    <tr>\n",
       "      <th>3</th>\n",
       "      <td>1000004</td>\n",
       "      <td>100</td>\n",
       "    </tr>\n",
       "    <tr>\n",
       "      <th>4</th>\n",
       "      <td>1000005</td>\n",
       "      <td>100</td>\n",
       "    </tr>\n",
       "  </tbody>\n",
       "</table>\n",
       "</div>"
      ],
      "text/plain": [
       "   product_id  product_categoryId\n",
       "0     1000001                 100\n",
       "1     1000002                 100\n",
       "2     1000003                 100\n",
       "3     1000004                 100\n",
       "4     1000005                 100"
      ]
     },
     "execution_count": 5,
     "metadata": {},
     "output_type": "execute_result"
    }
   ],
   "source": [
    "item_category = item_category.rename(columns={'商品ID':'product_id', '商品カテゴリID': 'product_categoryId'})\n",
    "item_category.head()"
   ]
  },
  {
   "cell_type": "code",
   "execution_count": 6,
   "metadata": {},
   "outputs": [
    {
     "data": {
      "text/html": [
       "<div>\n",
       "<style scoped>\n",
       "    .dataframe tbody tr th:only-of-type {\n",
       "        vertical-align: middle;\n",
       "    }\n",
       "\n",
       "    .dataframe tbody tr th {\n",
       "        vertical-align: top;\n",
       "    }\n",
       "\n",
       "    .dataframe thead th {\n",
       "        text-align: right;\n",
       "    }\n",
       "</style>\n",
       "<table border=\"1\" class=\"dataframe\">\n",
       "  <thead>\n",
       "    <tr style=\"text-align: right;\">\n",
       "      <th></th>\n",
       "      <th>product_categoryId</th>\n",
       "      <th>product_categoryName</th>\n",
       "      <th>wide_categoryName</th>\n",
       "      <th>narrow_categoryName</th>\n",
       "    </tr>\n",
       "  </thead>\n",
       "  <tbody>\n",
       "    <tr>\n",
       "      <th>0</th>\n",
       "      <td>100</td>\n",
       "      <td>映画 - DVD</td>\n",
       "      <td>映画</td>\n",
       "      <td>DVD</td>\n",
       "    </tr>\n",
       "    <tr>\n",
       "      <th>1</th>\n",
       "      <td>110</td>\n",
       "      <td>PCゲーム - 通常版</td>\n",
       "      <td>PCゲーム</td>\n",
       "      <td>通常版</td>\n",
       "    </tr>\n",
       "    <tr>\n",
       "      <th>2</th>\n",
       "      <td>120</td>\n",
       "      <td>音楽 - その他</td>\n",
       "      <td>音楽</td>\n",
       "      <td>その他</td>\n",
       "    </tr>\n",
       "    <tr>\n",
       "      <th>3</th>\n",
       "      <td>130</td>\n",
       "      <td>ゲーム - ゲーム機C</td>\n",
       "      <td>ゲーム</td>\n",
       "      <td>ゲーム機C</td>\n",
       "    </tr>\n",
       "    <tr>\n",
       "      <th>4</th>\n",
       "      <td>140</td>\n",
       "      <td>映画 - ブルーレイ</td>\n",
       "      <td>映画</td>\n",
       "      <td>ブルーレイ</td>\n",
       "    </tr>\n",
       "  </tbody>\n",
       "</table>\n",
       "</div>"
      ],
      "text/plain": [
       "   product_categoryId product_categoryName wide_categoryName  \\\n",
       "0                 100             映画 - DVD                映画   \n",
       "1                 110          PCゲーム - 通常版             PCゲーム   \n",
       "2                 120             音楽 - その他                音楽   \n",
       "3                 130          ゲーム - ゲーム機C               ゲーム   \n",
       "4                 140           映画 - ブルーレイ                映画   \n",
       "\n",
       "  narrow_categoryName  \n",
       "0                 DVD  \n",
       "1                 通常版  \n",
       "2                 その他  \n",
       "3               ゲーム機C  \n",
       "4               ブルーレイ  "
      ]
     },
     "execution_count": 6,
     "metadata": {},
     "output_type": "execute_result"
    }
   ],
   "source": [
    "category_name = category_name.rename(columns={'商品カテゴリID': 'product_categoryId', '商品カテゴリ名':'product_categoryName'})\n",
    "category_name['wide_categoryName'] = category_name['product_categoryName'].apply(lambda x : x.split('-')[0].split(' ')[0])\n",
    "category_name['narrow_categoryName'] = category_name['product_categoryName'].apply(lambda x : x.split('-')[1].split(' ')[1])\n",
    "category_name.head()"
   ]
  },
  {
   "cell_type": "markdown",
   "metadata": {},
   "source": [
    "## EDA（探索的データ解析）"
   ]
  },
  {
   "cell_type": "markdown",
   "metadata": {},
   "source": [
    "**ポイント**<br>\n",
    "①商品別の販売1位は映画　→　ゲームの販売店舗なのに!!!?<br>\n",
    "②時系列の影響は大きく受けており、トレンドがある。<br>\n",
    "　売上が年々減少傾向<br>\n",
    "　日別では周期性がかなりある　→　金・土がMAXで、日曜から木曜にかけて売上が登っていくイメージ<br>\n",
    "③全店舗で12月の売り上げが最大　→　store_9だけ他の月での増減が激しく特殊な売り上げ推移　→　独自でキャンペーンを行っていたか？<br>"
   ]
  },
  {
   "cell_type": "code",
   "execution_count": 7,
   "metadata": {},
   "outputs": [],
   "source": [
    "train_data_day = pd.DataFrame(train_data.groupby('date')['sale_num'].size())\n",
    "train_data_day = train_data_day.reset_index()"
   ]
  },
  {
   "cell_type": "code",
   "execution_count": 8,
   "metadata": {},
   "outputs": [
    {
     "data": {
      "text/html": [
       "<div>\n",
       "<style scoped>\n",
       "    .dataframe tbody tr th:only-of-type {\n",
       "        vertical-align: middle;\n",
       "    }\n",
       "\n",
       "    .dataframe tbody tr th {\n",
       "        vertical-align: top;\n",
       "    }\n",
       "\n",
       "    .dataframe thead th {\n",
       "        text-align: right;\n",
       "    }\n",
       "</style>\n",
       "<table border=\"1\" class=\"dataframe\">\n",
       "  <thead>\n",
       "    <tr style=\"text-align: right;\">\n",
       "      <th></th>\n",
       "      <th>date</th>\n",
       "      <th>store_id</th>\n",
       "      <th>product_id</th>\n",
       "      <th>product_price</th>\n",
       "      <th>sale_num</th>\n",
       "      <th>month</th>\n",
       "      <th>product_categoryId</th>\n",
       "      <th>product_categoryName</th>\n",
       "      <th>wide_categoryName</th>\n",
       "      <th>narrow_categoryName</th>\n",
       "    </tr>\n",
       "  </thead>\n",
       "  <tbody>\n",
       "    <tr>\n",
       "      <th>0</th>\n",
       "      <td>2018-01-01</td>\n",
       "      <td>9</td>\n",
       "      <td>1000001</td>\n",
       "      <td>420</td>\n",
       "      <td>1.0</td>\n",
       "      <td>201801</td>\n",
       "      <td>100</td>\n",
       "      <td>映画 - DVD</td>\n",
       "      <td>映画</td>\n",
       "      <td>DVD</td>\n",
       "    </tr>\n",
       "    <tr>\n",
       "      <th>1</th>\n",
       "      <td>2018-01-01</td>\n",
       "      <td>6</td>\n",
       "      <td>1000001</td>\n",
       "      <td>420</td>\n",
       "      <td>1.0</td>\n",
       "      <td>201801</td>\n",
       "      <td>100</td>\n",
       "      <td>映画 - DVD</td>\n",
       "      <td>映画</td>\n",
       "      <td>DVD</td>\n",
       "    </tr>\n",
       "    <tr>\n",
       "      <th>2</th>\n",
       "      <td>2018-01-01</td>\n",
       "      <td>10</td>\n",
       "      <td>1000001</td>\n",
       "      <td>420</td>\n",
       "      <td>1.0</td>\n",
       "      <td>201801</td>\n",
       "      <td>100</td>\n",
       "      <td>映画 - DVD</td>\n",
       "      <td>映画</td>\n",
       "      <td>DVD</td>\n",
       "    </tr>\n",
       "    <tr>\n",
       "      <th>3</th>\n",
       "      <td>2018-01-02</td>\n",
       "      <td>10</td>\n",
       "      <td>1000001</td>\n",
       "      <td>420</td>\n",
       "      <td>2.0</td>\n",
       "      <td>201801</td>\n",
       "      <td>100</td>\n",
       "      <td>映画 - DVD</td>\n",
       "      <td>映画</td>\n",
       "      <td>DVD</td>\n",
       "    </tr>\n",
       "    <tr>\n",
       "      <th>4</th>\n",
       "      <td>2018-01-02</td>\n",
       "      <td>9</td>\n",
       "      <td>1000001</td>\n",
       "      <td>420</td>\n",
       "      <td>1.0</td>\n",
       "      <td>201801</td>\n",
       "      <td>100</td>\n",
       "      <td>映画 - DVD</td>\n",
       "      <td>映画</td>\n",
       "      <td>DVD</td>\n",
       "    </tr>\n",
       "  </tbody>\n",
       "</table>\n",
       "</div>"
      ],
      "text/plain": [
       "        date  store_id  product_id  product_price  sale_num   month  \\\n",
       "0 2018-01-01         9     1000001            420       1.0  201801   \n",
       "1 2018-01-01         6     1000001            420       1.0  201801   \n",
       "2 2018-01-01        10     1000001            420       1.0  201801   \n",
       "3 2018-01-02        10     1000001            420       2.0  201801   \n",
       "4 2018-01-02         9     1000001            420       1.0  201801   \n",
       "\n",
       "   product_categoryId product_categoryName wide_categoryName  \\\n",
       "0                 100             映画 - DVD                映画   \n",
       "1                 100             映画 - DVD                映画   \n",
       "2                 100             映画 - DVD                映画   \n",
       "3                 100             映画 - DVD                映画   \n",
       "4                 100             映画 - DVD                映画   \n",
       "\n",
       "  narrow_categoryName  \n",
       "0                 DVD  \n",
       "1                 DVD  \n",
       "2                 DVD  \n",
       "3                 DVD  \n",
       "4                 DVD  "
      ]
     },
     "execution_count": 8,
     "metadata": {},
     "output_type": "execute_result"
    }
   ],
   "source": [
    "train_data = pd.merge(train_data, item_category, on='product_id', how='inner')\n",
    "train_data = pd.merge(train_data, category_name, on='product_categoryId', how='inner')\n",
    "train_data.head()"
   ]
  },
  {
   "cell_type": "code",
   "execution_count": 9,
   "metadata": {},
   "outputs": [
    {
     "data": {
      "text/plain": [
       "wide_categoryName\n",
       "映画         387702\n",
       "ゲーム        191434\n",
       "音楽         182414\n",
       "PCゲーム      165554\n",
       "ギフト        130943\n",
       "本           26541\n",
       "PCソフト       21652\n",
       "ゲーム周辺機器     13330\n",
       "dtype: int64"
      ]
     },
     "execution_count": 9,
     "metadata": {},
     "output_type": "execute_result"
    }
   ],
   "source": [
    "train_data.groupby('wide_categoryName').size().sort_values(ascending = False)"
   ]
  },
  {
   "cell_type": "code",
   "execution_count": 10,
   "metadata": {},
   "outputs": [
    {
     "data": {
      "text/plain": [
       "narrow_categoryName\n",
       "DVD              260515\n",
       "通常版              165554\n",
       "その他              160674\n",
       "ゲーム機C            104075\n",
       "ブルーレイ             89226\n",
       "ゲーム機B             66236\n",
       "ゲーム機A             25766\n",
       "小型ゲーム             21763\n",
       "PCソフト             21652\n",
       "カード、パズル等          21625\n",
       "ブルーレイ3D           20605\n",
       "フィギュア             19801\n",
       "ぬいぐるみ             18526\n",
       "セット商品             17356\n",
       "CD                16733\n",
       "ボードゲーム            15920\n",
       "ガジェット類            15070\n",
       "オーディオブック_タイプA     14137\n",
       "教育用                9472\n",
       "記念品_タイプA           9150\n",
       "記念品_タイプB           9088\n",
       "付属品(購入特典)          8687\n",
       "レコード               5007\n",
       "オーディオブック_タイプB      2932\n",
       "dtype: int64"
      ]
     },
     "execution_count": 10,
     "metadata": {},
     "output_type": "execute_result"
    }
   ],
   "source": [
    "train_data.groupby('narrow_categoryName').size().sort_values(ascending = False)"
   ]
  },
  {
   "cell_type": "code",
   "execution_count": 11,
   "metadata": {},
   "outputs": [
    {
     "data": {
      "text/plain": [
       "wide_categoryName  narrow_categoryName\n",
       "映画                 DVD                    260515\n",
       "PCゲーム              通常版                    165554\n",
       "音楽                 その他                    160674\n",
       "ゲーム                ゲーム機C                  104075\n",
       "映画                 ブルーレイ                   89226\n",
       "ゲーム                ゲーム機B                   57543\n",
       "ギフト                小型ゲーム                   21763\n",
       "PCソフト              PCソフト                   21652\n",
       "ギフト                カード、パズル等                21625\n",
       "ゲーム                ゲーム機A                   21129\n",
       "映画                 ブルーレイ3D                 20605\n",
       "ギフト                フィギュア                   19801\n",
       "                   ぬいぐるみ                   18526\n",
       "映画                 セット商品                   17356\n",
       "音楽                 CD                      16733\n",
       "ギフト                ボードゲーム                  15920\n",
       "                   ガジェット類                  15070\n",
       "本                  オーディオブック_タイプA           14137\n",
       "                   教育用                      9472\n",
       "ギフト                記念品_タイプA                 9150\n",
       "                   記念品_タイプB                 9088\n",
       "ゲーム周辺機器            ゲーム機B                    8693\n",
       "ゲーム                付属品(購入特典)                8687\n",
       "音楽                 レコード                     5007\n",
       "ゲーム周辺機器            ゲーム機A                    4637\n",
       "本                  オーディオブック_タイプB            2932\n",
       "dtype: int64"
      ]
     },
     "execution_count": 11,
     "metadata": {},
     "output_type": "execute_result"
    }
   ],
   "source": [
    "train_data.groupby(['wide_categoryName', 'narrow_categoryName']).size().sort_values(ascending = False)"
   ]
  },
  {
   "cell_type": "code",
   "execution_count": 12,
   "metadata": {},
   "outputs": [
    {
     "data": {
      "text/plain": [
       "product_id\n",
       "1100038    4722\n",
       "1100375    4636\n",
       "1300239    4539\n",
       "1100354    4256\n",
       "1900090    4238\n",
       "           ... \n",
       "2500173       1\n",
       "2500174       1\n",
       "2500178       1\n",
       "1400957       1\n",
       "3500073       1\n",
       "Length: 9040, dtype: int64"
      ]
     },
     "execution_count": 12,
     "metadata": {},
     "output_type": "execute_result"
    }
   ],
   "source": [
    "train_data.groupby('product_id').size().sort_values(ascending = False)"
   ]
  },
  {
   "cell_type": "code",
   "execution_count": 13,
   "metadata": {},
   "outputs": [
    {
     "data": {
      "text/plain": [
       "array(['映画 - DVD', 'PCゲーム - 通常版', '音楽 - その他', 'ゲーム - ゲーム機C', '映画 - ブルーレイ',\n",
       "       'ゲーム - ゲーム機B', 'ギフト - 小型ゲーム', 'ギフト - カード、パズル等', 'ギフト - フィギュア',\n",
       "       'PCソフト - PCソフト', '映画 - ブルーレイ3D', 'ギフト - ぬいぐるみ', 'ゲーム - ゲーム機A',\n",
       "       '映画 - セット商品', 'ギフト - ボードゲーム', '音楽 - CD', 'ギフト - ガジェット類',\n",
       "       '本 - オーディオブック_タイプA', 'ギフト - 記念品_タイプA', 'ギフト - 記念品_タイプB', '本 - 教育用',\n",
       "       'ゲーム - 付属品(購入特典)', 'ゲーム周辺機器 - ゲーム機B', 'ゲーム周辺機器 - ゲーム機A',\n",
       "       '本 - オーディオブック_タイプB', '音楽 - レコード'], dtype=object)"
      ]
     },
     "execution_count": 13,
     "metadata": {},
     "output_type": "execute_result"
    }
   ],
   "source": [
    "train_data['product_categoryName'].unique()"
   ]
  },
  {
   "cell_type": "code",
   "execution_count": 14,
   "metadata": {},
   "outputs": [
    {
     "data": {
      "text/plain": [
       "26"
      ]
     },
     "execution_count": 14,
     "metadata": {},
     "output_type": "execute_result"
    }
   ],
   "source": [
    "train_data['product_categoryId'].nunique()"
   ]
  },
  {
   "cell_type": "markdown",
   "metadata": {},
   "source": [
    "### 大カテゴリで区分して傾向をみる"
   ]
  },
  {
   "cell_type": "markdown",
   "metadata": {},
   "source": [
    "**ポイント**<br>\n",
    "①同じ商品でも日によって大きくブレる→週次での周期性あり<br>\n",
    "②商品別に販売数量は異なり、ポワソン分布に発展するものもあり<br>"
   ]
  },
  {
   "cell_type": "markdown",
   "metadata": {},
   "source": [
    "売上が最も高い映画の傾向"
   ]
  },
  {
   "cell_type": "code",
   "execution_count": 15,
   "metadata": {},
   "outputs": [
    {
     "data": {
      "text/plain": [
       "Text(0.5, 1.0, '20180101_20191031_transition_day')"
      ]
     },
     "execution_count": 15,
     "metadata": {},
     "output_type": "execute_result"
    },
    {
     "data": {
      "image/png": "[encoded data removed]",
      "text/plain": [
       "<Figure size 1080x360 with 1 Axes>"
      ]
     },
     "metadata": {
      "needs_background": "light"
     },
     "output_type": "display_data"
    },
    {
     "data": {
      "image/png": "[encoded data removed]",
      "text/plain": [
       "<Figure size 1080x360 with 1 Axes>"
      ]
     },
     "metadata": {
      "needs_background": "light"
     },
     "output_type": "display_data"
    }
   ],
   "source": [
    "train_data_cinema = train_data.query(\"wide_categoryName == '映画'\")\n",
    "\n",
    "train_data_cinema_month = pd.DataFrame(train_data_cinema.groupby('month').size()).rename(columns={0:'sale_num'})\n",
    "train_data_cinema_month = train_data_cinema_month.reset_index()\n",
    "\n",
    "#月別の映画販売量推移（2018年1月~2019年10月））\n",
    "plt.figure(figsize=(15,5))\n",
    "plt.plot(train_data_cinema_month['month'], train_data_cinema_month['sale_num'])\n",
    "plt.xlabel('date')\n",
    "plt.ylabel('sales_num')\n",
    "plt.title('20180101_20191031_transition_month')\n",
    "\n",
    "\n",
    "#日別の映画販売量推移（2018年1月~2019年10月））\n",
    "train_data_cinema_day = pd.DataFrame(train_data_cinema.groupby('date').size()).rename(columns={0:'sale_num'})\n",
    "train_data_cinema_day = train_data_cinema_day.reset_index()\n",
    "\n",
    "plt.figure(figsize=(15,5))\n",
    "plt.plot(train_data_cinema_day['date'], train_data_cinema_day['sale_num'])\n",
    "plt.xlabel('date')\n",
    "plt.ylabel('sales_num')\n",
    "plt.title('20180101_20191031_transition_day')"
   ]
  },
  {
   "cell_type": "markdown",
   "metadata": {},
   "source": [
    "**ポイント**<br>\n",
    "自己相関と偏自己相関<br>\n",
    "周期性のあるデータのため、編自己相関にしても3~4週先の自分とは相関がある"
   ]
  },
  {
   "cell_type": "code",
   "execution_count": 16,
   "metadata": {},
   "outputs": [
    {
     "data": {
      "image/png": "[encoded data removed]",
      "text/plain": [
       "<Figure size 432x288 with 1 Axes>"
      ]
     },
     "execution_count": 16,
     "metadata": {},
     "output_type": "execute_result"
    },
    {
     "data": {
      "image/png": "[encoded data removed]",
      "text/plain": [
       "<Figure size 432x288 with 1 Axes>"
      ]
     },
     "metadata": {
      "needs_background": "light"
     },
     "output_type": "display_data"
    },
    {
     "data": {
      "image/png": "[encoded data removed]",
      "text/plain": [
       "<Figure size 432x288 with 1 Axes>"
      ]
     },
     "metadata": {
      "needs_background": "light"
     },
     "output_type": "display_data"
    }
   ],
   "source": [
    "#上：自己相関　下：偏自己相関\n",
    "tsaplots.plot_acf(train_data_cinema_day['sale_num'], lags=30)\n",
    "tsaplots.plot_pacf(train_data_cinema_day['sale_num'], lags=30)"
   ]
  },
  {
   "cell_type": "code",
   "execution_count": null,
   "metadata": {},
   "outputs": [],
   "source": []
  },
  {
   "cell_type": "markdown",
   "metadata": {},
   "source": [
    "2018年1月の3ヶ月のみ\n",
    "\n",
    "→**週次の時系列による周期性あり**"
   ]
  },
  {
   "cell_type": "code",
   "execution_count": 17,
   "metadata": {},
   "outputs": [
    {
     "data": {
      "text/plain": [
       "date        datetime64[ns]\n",
       "sale_num             int64\n",
       "dtype: object"
      ]
     },
     "execution_count": 17,
     "metadata": {},
     "output_type": "execute_result"
    }
   ],
   "source": [
    "train_data_cinema_day.dtypes"
   ]
  },
  {
   "cell_type": "code",
   "execution_count": 18,
   "metadata": {},
   "outputs": [],
   "source": [
    "# #日別の映画販売量推移（2018年1月~2019年10月））\n",
    "# train_data_cinema_day = pd.DataFrame(train_data_cinema.groupby('date').sum()).rename(columns={0:'sale_num'})\n",
    "# train_data_cinema_day = train_data_cinema_day.reset_index()\n",
    "\n",
    "# plt.figure(figsize=(15,5))\n",
    "# filter_date = datetime.date(2018,12,31)\n",
    "# plt.plot(train_data_cinema_day.query(\"date <= @filter_date\")['date'], train_data_cinema_day.query(\"date <= @filter_date\")['sale_num'])\n",
    "# plt.xlabel('date')\n",
    "# plt.ylabel('sales_num')\n",
    "# plt.title('20180101_20191031_transition_day')"
   ]
  },
  {
   "cell_type": "markdown",
   "metadata": {},
   "source": [
    "## 店舗別の売上推移"
   ]
  },
  {
   "cell_type": "code",
   "execution_count": 19,
   "metadata": {},
   "outputs": [],
   "source": [
    "for i in sorted(list(train_data['store_id'].unique())):\n",
    "    if i == 0 :\n",
    "        train_data_store = pd.DataFrame(train_data.query(\"store_id == @i\").groupby(\"month\")['sale_num'].sum())\n",
    "        train_data_store = train_data_store.rename(columns={'sale_num':'store_'+str(i)})\n",
    "        train_data_store = train_data_store.reset_index()\n",
    "    else:\n",
    "        tmp_df = pd.DataFrame(train_data.query(\"store_id == @i\").groupby(\"month\")['sale_num'].sum())\n",
    "        tmp_df = tmp_df.rename(columns={'sale_num':'store_'+str(i)})\n",
    "        tmp_df = tmp_df.reset_index()\n",
    "        train_data_store = pd.merge(train_data_store, tmp_df, on='month', how='inner')"
   ]
  },
  {
   "cell_type": "code",
   "execution_count": 20,
   "metadata": {},
   "outputs": [
    {
     "data": {
      "text/html": [
       "<div>\n",
       "<style scoped>\n",
       "    .dataframe tbody tr th:only-of-type {\n",
       "        vertical-align: middle;\n",
       "    }\n",
       "\n",
       "    .dataframe tbody tr th {\n",
       "        vertical-align: top;\n",
       "    }\n",
       "\n",
       "    .dataframe thead th {\n",
       "        text-align: right;\n",
       "    }\n",
       "</style>\n",
       "<table border=\"1\" class=\"dataframe\">\n",
       "  <thead>\n",
       "    <tr style=\"text-align: right;\">\n",
       "      <th></th>\n",
       "      <th>month</th>\n",
       "      <th>store_0</th>\n",
       "      <th>store_1</th>\n",
       "      <th>store_2</th>\n",
       "      <th>store_3</th>\n",
       "      <th>store_4</th>\n",
       "      <th>store_5</th>\n",
       "      <th>store_6</th>\n",
       "      <th>store_7</th>\n",
       "      <th>store_8</th>\n",
       "      <th>store_9</th>\n",
       "      <th>store_10</th>\n",
       "      <th>store_11</th>\n",
       "      <th>store_12</th>\n",
       "      <th>store_13</th>\n",
       "      <th>store_14</th>\n",
       "      <th>store_15</th>\n",
       "      <th>store_16</th>\n",
       "      <th>store_17</th>\n",
       "    </tr>\n",
       "  </thead>\n",
       "  <tbody>\n",
       "    <tr>\n",
       "      <th>0</th>\n",
       "      <td>201801</td>\n",
       "      <td>9487.0</td>\n",
       "      <td>4418.0</td>\n",
       "      <td>3167.0</td>\n",
       "      <td>1220.0</td>\n",
       "      <td>1949.0</td>\n",
       "      <td>3068.0</td>\n",
       "      <td>4851.0</td>\n",
       "      <td>6669.0</td>\n",
       "      <td>2897.0</td>\n",
       "      <td>3763.0</td>\n",
       "      <td>5973.0</td>\n",
       "      <td>2558.0</td>\n",
       "      <td>1915.0</td>\n",
       "      <td>6149.0</td>\n",
       "      <td>3426.0</td>\n",
       "      <td>2726.0</td>\n",
       "      <td>2491.0</td>\n",
       "      <td>2300.0</td>\n",
       "    </tr>\n",
       "    <tr>\n",
       "      <th>1</th>\n",
       "      <td>201802</td>\n",
       "      <td>9362.0</td>\n",
       "      <td>4502.0</td>\n",
       "      <td>2490.0</td>\n",
       "      <td>1420.0</td>\n",
       "      <td>2096.0</td>\n",
       "      <td>3466.0</td>\n",
       "      <td>5066.0</td>\n",
       "      <td>6710.0</td>\n",
       "      <td>2993.0</td>\n",
       "      <td>3211.0</td>\n",
       "      <td>4785.0</td>\n",
       "      <td>2522.0</td>\n",
       "      <td>1981.0</td>\n",
       "      <td>6695.0</td>\n",
       "      <td>3383.0</td>\n",
       "      <td>2605.0</td>\n",
       "      <td>2278.0</td>\n",
       "      <td>2175.0</td>\n",
       "    </tr>\n",
       "    <tr>\n",
       "      <th>2</th>\n",
       "      <td>201803</td>\n",
       "      <td>7022.0</td>\n",
       "      <td>3020.0</td>\n",
       "      <td>3034.0</td>\n",
       "      <td>5331.0</td>\n",
       "      <td>4246.0</td>\n",
       "      <td>3849.0</td>\n",
       "      <td>5909.0</td>\n",
       "      <td>7667.0</td>\n",
       "      <td>3313.0</td>\n",
       "      <td>3894.0</td>\n",
       "      <td>5863.0</td>\n",
       "      <td>2739.0</td>\n",
       "      <td>2103.0</td>\n",
       "      <td>7792.0</td>\n",
       "      <td>3934.0</td>\n",
       "      <td>2824.0</td>\n",
       "      <td>2584.0</td>\n",
       "      <td>2643.0</td>\n",
       "    </tr>\n",
       "    <tr>\n",
       "      <th>3</th>\n",
       "      <td>201804</td>\n",
       "      <td>4848.0</td>\n",
       "      <td>2236.0</td>\n",
       "      <td>2150.0</td>\n",
       "      <td>4304.0</td>\n",
       "      <td>2788.0</td>\n",
       "      <td>2951.0</td>\n",
       "      <td>4007.0</td>\n",
       "      <td>5787.0</td>\n",
       "      <td>2061.0</td>\n",
       "      <td>2693.0</td>\n",
       "      <td>4092.0</td>\n",
       "      <td>1993.0</td>\n",
       "      <td>1737.0</td>\n",
       "      <td>5750.0</td>\n",
       "      <td>2862.0</td>\n",
       "      <td>2150.0</td>\n",
       "      <td>1816.0</td>\n",
       "      <td>1766.0</td>\n",
       "    </tr>\n",
       "    <tr>\n",
       "      <th>4</th>\n",
       "      <td>201805</td>\n",
       "      <td>4975.0</td>\n",
       "      <td>2141.0</td>\n",
       "      <td>2031.0</td>\n",
       "      <td>4051.0</td>\n",
       "      <td>2582.0</td>\n",
       "      <td>1988.0</td>\n",
       "      <td>4355.0</td>\n",
       "      <td>5196.0</td>\n",
       "      <td>1635.0</td>\n",
       "      <td>2485.0</td>\n",
       "      <td>4366.0</td>\n",
       "      <td>2009.0</td>\n",
       "      <td>1489.0</td>\n",
       "      <td>5455.0</td>\n",
       "      <td>2904.0</td>\n",
       "      <td>2083.0</td>\n",
       "      <td>1797.0</td>\n",
       "      <td>1883.0</td>\n",
       "    </tr>\n",
       "  </tbody>\n",
       "</table>\n",
       "</div>"
      ],
      "text/plain": [
       "    month  store_0  store_1  store_2  store_3  store_4  store_5  store_6  \\\n",
       "0  201801   9487.0   4418.0   3167.0   1220.0   1949.0   3068.0   4851.0   \n",
       "1  201802   9362.0   4502.0   2490.0   1420.0   2096.0   3466.0   5066.0   \n",
       "2  201803   7022.0   3020.0   3034.0   5331.0   4246.0   3849.0   5909.0   \n",
       "3  201804   4848.0   2236.0   2150.0   4304.0   2788.0   2951.0   4007.0   \n",
       "4  201805   4975.0   2141.0   2031.0   4051.0   2582.0   1988.0   4355.0   \n",
       "\n",
       "   store_7  store_8  store_9  store_10  store_11  store_12  store_13  \\\n",
       "0   6669.0   2897.0   3763.0    5973.0    2558.0    1915.0    6149.0   \n",
       "1   6710.0   2993.0   3211.0    4785.0    2522.0    1981.0    6695.0   \n",
       "2   7667.0   3313.0   3894.0    5863.0    2739.0    2103.0    7792.0   \n",
       "3   5787.0   2061.0   2693.0    4092.0    1993.0    1737.0    5750.0   \n",
       "4   5196.0   1635.0   2485.0    4366.0    2009.0    1489.0    5455.0   \n",
       "\n",
       "   store_14  store_15  store_16  store_17  \n",
       "0    3426.0    2726.0    2491.0    2300.0  \n",
       "1    3383.0    2605.0    2278.0    2175.0  \n",
       "2    3934.0    2824.0    2584.0    2643.0  \n",
       "3    2862.0    2150.0    1816.0    1766.0  \n",
       "4    2904.0    2083.0    1797.0    1883.0  "
      ]
     },
     "execution_count": 20,
     "metadata": {},
     "output_type": "execute_result"
    }
   ],
   "source": [
    "train_data_store.head()"
   ]
  },
  {
   "cell_type": "code",
   "execution_count": 21,
   "metadata": {},
   "outputs": [
    {
     "data": {
      "text/plain": [
       "Text(0.5, 1.0, '20180101_20191031_transition_day')"
      ]
     },
     "execution_count": 21,
     "metadata": {},
     "output_type": "execute_result"
    },
    {
     "data": {
      "image/png": "[encoded data removed]",
      "text/plain": [
       "<Figure size 1080x360 with 1 Axes>"
      ]
     },
     "metadata": {
      "needs_background": "light"
     },
     "output_type": "display_data"
    },
    {
     "data": {
      "image/png": "[encoded data removed]",
      "text/plain": [
       "<Figure size 1080x360 with 1 Axes>"
      ]
     },
     "metadata": {
      "needs_background": "light"
     },
     "output_type": "display_data"
    }
   ],
   "source": [
    "l0,l1,l2,l3,l4,l5,l6,l7,l8,l9,l10,l11,l12,l13,l14,l15,l16 = 'store_0', 'store_1',  'store_2', 'store_3',\\\n",
    "        'store_4', 'store_5',  'store_6', 'store_7',  'store_8', 'store_9',\\\n",
    "         'store_10', 'store_11',  'store_12', 'store_13',  'store_14', 'store_15',  'store_16'\n",
    "\n",
    "#1~10店舗\n",
    "plt.figure(figsize=(15,5))\n",
    "filter_date = datetime.date(2018,3,31)\n",
    "plt.plot(train_data_store['month'], train_data_store['store_0'], label=l0)\n",
    "plt.plot(train_data_store['month'], train_data_store['store_1'], label=l1)\n",
    "plt.plot(train_data_store['month'], train_data_store['store_2'], label=l2)\n",
    "plt.plot(train_data_store['month'], train_data_store['store_3'], label=l3)\n",
    "plt.plot(train_data_store['month'], train_data_store['store_4'], label=l4)\n",
    "plt.plot(train_data_store['month'], train_data_store['store_5'], label=l5)\n",
    "plt.plot(train_data_store['month'], train_data_store['store_6'], label=l6)\n",
    "plt.plot(train_data_store['month'], train_data_store['store_7'], label=l7)\n",
    "plt.plot(train_data_store['month'], train_data_store['store_8'], label=l8)\n",
    "plt.plot(train_data_store['month'], train_data_store['store_9'], label=l9)\n",
    "\n",
    "plt.xlabel('month')\n",
    "plt.ylabel('sales_num')\n",
    "plt.legend()\n",
    "plt.title('20180101_20191031_transition_day')\n",
    "\n",
    "#11~17店舗\n",
    "plt.figure(figsize=(15,5))\n",
    "filter_date = datetime.date(2018,3,31)\n",
    "plt.plot(train_data_store['month'], train_data_store['store_10'], label=l10)\n",
    "plt.plot(train_data_store['month'], train_data_store['store_11'], label=l11)\n",
    "plt.plot(train_data_store['month'], train_data_store['store_12'], label=l12)\n",
    "plt.plot(train_data_store['month'], train_data_store['store_13'], label=l13)\n",
    "plt.plot(train_data_store['month'], train_data_store['store_14'], label=l14)\n",
    "plt.plot(train_data_store['month'], train_data_store['store_15'], label=l15)\n",
    "plt.plot(train_data_store['month'], train_data_store['store_16'], label=l16)\n",
    "\n",
    "\n",
    "plt.xlabel('month')\n",
    "plt.ylabel('sales_num')\n",
    "plt.legend()\n",
    "plt.title('20180101_20191031_transition_day')"
   ]
  },
  {
   "cell_type": "markdown",
   "metadata": {},
   "source": [
    "# 特徴量の作成"
   ]
  },
  {
   "cell_type": "markdown",
   "metadata": {},
   "source": [
    "予測モデルが月単位の販売数量（目的変数）を追加"
   ]
  },
  {
   "cell_type": "markdown",
   "metadata": {},
   "source": [
    "データを日別から月別に変換"
   ]
  },
  {
   "cell_type": "code",
   "execution_count": 27,
   "metadata": {},
   "outputs": [
    {
     "data": {
      "text/html": [
       "<div>\n",
       "<style scoped>\n",
       "    .dataframe tbody tr th:only-of-type {\n",
       "        vertical-align: middle;\n",
       "    }\n",
       "\n",
       "    .dataframe tbody tr th {\n",
       "        vertical-align: top;\n",
       "    }\n",
       "\n",
       "    .dataframe thead th {\n",
       "        text-align: right;\n",
       "    }\n",
       "</style>\n",
       "<table border=\"1\" class=\"dataframe\">\n",
       "  <thead>\n",
       "    <tr style=\"text-align: right;\">\n",
       "      <th></th>\n",
       "      <th>month</th>\n",
       "      <th>store_id</th>\n",
       "      <th>product_id</th>\n",
       "      <th>sale_num</th>\n",
       "    </tr>\n",
       "  </thead>\n",
       "  <tbody>\n",
       "    <tr>\n",
       "      <th>0</th>\n",
       "      <td>201801</td>\n",
       "      <td>0</td>\n",
       "      <td>1000001</td>\n",
       "      <td>6.0</td>\n",
       "    </tr>\n",
       "    <tr>\n",
       "      <th>1</th>\n",
       "      <td>201801</td>\n",
       "      <td>0</td>\n",
       "      <td>1000002</td>\n",
       "      <td>2.0</td>\n",
       "    </tr>\n",
       "    <tr>\n",
       "      <th>2</th>\n",
       "      <td>201801</td>\n",
       "      <td>0</td>\n",
       "      <td>1000004</td>\n",
       "      <td>1.0</td>\n",
       "    </tr>\n",
       "    <tr>\n",
       "      <th>3</th>\n",
       "      <td>201801</td>\n",
       "      <td>0</td>\n",
       "      <td>1000005</td>\n",
       "      <td>8.0</td>\n",
       "    </tr>\n",
       "    <tr>\n",
       "      <th>4</th>\n",
       "      <td>201801</td>\n",
       "      <td>0</td>\n",
       "      <td>1000006</td>\n",
       "      <td>2.0</td>\n",
       "    </tr>\n",
       "  </tbody>\n",
       "</table>\n",
       "</div>"
      ],
      "text/plain": [
       "    month  store_id  product_id  sale_num\n",
       "0  201801         0     1000001       6.0\n",
       "1  201801         0     1000002       2.0\n",
       "2  201801         0     1000004       1.0\n",
       "3  201801         0     1000005       8.0\n",
       "4  201801         0     1000006       2.0"
      ]
     },
     "execution_count": 27,
     "metadata": {},
     "output_type": "execute_result"
    }
   ],
   "source": [
    "train_data_one = pd.DataFrame(train_data.groupby([\"month\", 'store_id', \"product_id\"])['sale_num'].sum())\n",
    "train_data_one = train_data_one[['sale_num']]\n",
    "train_data_one = train_data_one.reset_index()\n",
    "train_data_one.head()"
   ]
  },
  {
   "cell_type": "code",
   "execution_count": 28,
   "metadata": {},
   "outputs": [],
   "source": [
    "train_data_month = train_data.groupby([\"store_id\", \"product_id\", 'month'])['sale_num'].sum()\n",
    "train_data_month = train_data_month.reset_index()\n",
    "train_data_month = train_data_month.rename(columns={'sale_num':'sale_num_monthly'})\n",
    "train_data = pd.merge(train_data, train_data_month, on=['store_id', 'product_id', 'month'], how='inner')"
   ]
  },
  {
   "cell_type": "markdown",
   "metadata": {},
   "source": [
    "## 時系列データ"
   ]
  },
  {
   "cell_type": "markdown",
   "metadata": {},
   "source": [
    "### 曜日"
   ]
  },
  {
   "cell_type": "code",
   "execution_count": 29,
   "metadata": {},
   "outputs": [
    {
     "data": {
      "text/plain": [
       "<BarContainer object of 7 artists>"
      ]
     },
     "execution_count": 29,
     "metadata": {},
     "output_type": "execute_result"
    },
    {
     "data": {
      "image/png": "[encoded data removed]",
      "text/plain": [
       "<Figure size 432x288 with 1 Axes>"
      ]
     },
     "metadata": {
      "needs_background": "light"
     },
     "output_type": "display_data"
    }
   ],
   "source": [
    "train_data['dayofweek'] = train_data['date'].apply(lambda x: x.weekday())\n",
    "plt.bar(train_data[\"dayofweek\"].unique(), train_data.groupby(\"dayofweek\")['sale_num'].sum())"
   ]
  },
  {
   "cell_type": "markdown",
   "metadata": {},
   "source": [
    "### 年月日"
   ]
  },
  {
   "cell_type": "markdown",
   "metadata": {},
   "source": [
    "月は、target_encodingにて特徴量作成"
   ]
  },
  {
   "cell_type": "code",
   "execution_count": 30,
   "metadata": {},
   "outputs": [
    {
     "data": {
      "text/html": [
       "<div>\n",
       "<style scoped>\n",
       "    .dataframe tbody tr th:only-of-type {\n",
       "        vertical-align: middle;\n",
       "    }\n",
       "\n",
       "    .dataframe tbody tr th {\n",
       "        vertical-align: top;\n",
       "    }\n",
       "\n",
       "    .dataframe thead th {\n",
       "        text-align: right;\n",
       "    }\n",
       "</style>\n",
       "<table border=\"1\" class=\"dataframe\">\n",
       "  <thead>\n",
       "    <tr style=\"text-align: right;\">\n",
       "      <th></th>\n",
       "      <th>date</th>\n",
       "      <th>store_id</th>\n",
       "      <th>product_id</th>\n",
       "      <th>product_price</th>\n",
       "      <th>sale_num</th>\n",
       "      <th>month</th>\n",
       "      <th>product_categoryId</th>\n",
       "      <th>product_categoryName</th>\n",
       "      <th>wide_categoryName</th>\n",
       "      <th>narrow_categoryName</th>\n",
       "      <th>sale_num_monthly</th>\n",
       "      <th>dayofweek</th>\n",
       "    </tr>\n",
       "  </thead>\n",
       "  <tbody>\n",
       "    <tr>\n",
       "      <th>0</th>\n",
       "      <td>2018-01-01</td>\n",
       "      <td>9</td>\n",
       "      <td>1000001</td>\n",
       "      <td>420</td>\n",
       "      <td>1.0</td>\n",
       "      <td>201801</td>\n",
       "      <td>100</td>\n",
       "      <td>映画 - DVD</td>\n",
       "      <td>映画</td>\n",
       "      <td>DVD</td>\n",
       "      <td>5.0</td>\n",
       "      <td>0</td>\n",
       "    </tr>\n",
       "    <tr>\n",
       "      <th>1</th>\n",
       "      <td>2018-01-02</td>\n",
       "      <td>9</td>\n",
       "      <td>1000001</td>\n",
       "      <td>420</td>\n",
       "      <td>1.0</td>\n",
       "      <td>201801</td>\n",
       "      <td>100</td>\n",
       "      <td>映画 - DVD</td>\n",
       "      <td>映画</td>\n",
       "      <td>DVD</td>\n",
       "      <td>5.0</td>\n",
       "      <td>1</td>\n",
       "    </tr>\n",
       "    <tr>\n",
       "      <th>2</th>\n",
       "      <td>2018-01-14</td>\n",
       "      <td>9</td>\n",
       "      <td>1000001</td>\n",
       "      <td>420</td>\n",
       "      <td>1.0</td>\n",
       "      <td>201801</td>\n",
       "      <td>100</td>\n",
       "      <td>映画 - DVD</td>\n",
       "      <td>映画</td>\n",
       "      <td>DVD</td>\n",
       "      <td>5.0</td>\n",
       "      <td>6</td>\n",
       "    </tr>\n",
       "    <tr>\n",
       "      <th>3</th>\n",
       "      <td>2018-01-25</td>\n",
       "      <td>9</td>\n",
       "      <td>1000001</td>\n",
       "      <td>420</td>\n",
       "      <td>1.0</td>\n",
       "      <td>201801</td>\n",
       "      <td>100</td>\n",
       "      <td>映画 - DVD</td>\n",
       "      <td>映画</td>\n",
       "      <td>DVD</td>\n",
       "      <td>5.0</td>\n",
       "      <td>3</td>\n",
       "    </tr>\n",
       "    <tr>\n",
       "      <th>4</th>\n",
       "      <td>2018-01-31</td>\n",
       "      <td>9</td>\n",
       "      <td>1000001</td>\n",
       "      <td>420</td>\n",
       "      <td>1.0</td>\n",
       "      <td>201801</td>\n",
       "      <td>100</td>\n",
       "      <td>映画 - DVD</td>\n",
       "      <td>映画</td>\n",
       "      <td>DVD</td>\n",
       "      <td>5.0</td>\n",
       "      <td>2</td>\n",
       "    </tr>\n",
       "  </tbody>\n",
       "</table>\n",
       "</div>"
      ],
      "text/plain": [
       "        date  store_id  product_id  product_price  sale_num   month  \\\n",
       "0 2018-01-01         9     1000001            420       1.0  201801   \n",
       "1 2018-01-02         9     1000001            420       1.0  201801   \n",
       "2 2018-01-14         9     1000001            420       1.0  201801   \n",
       "3 2018-01-25         9     1000001            420       1.0  201801   \n",
       "4 2018-01-31         9     1000001            420       1.0  201801   \n",
       "\n",
       "   product_categoryId product_categoryName wide_categoryName  \\\n",
       "0                 100             映画 - DVD                映画   \n",
       "1                 100             映画 - DVD                映画   \n",
       "2                 100             映画 - DVD                映画   \n",
       "3                 100             映画 - DVD                映画   \n",
       "4                 100             映画 - DVD                映画   \n",
       "\n",
       "  narrow_categoryName  sale_num_monthly  dayofweek  \n",
       "0                 DVD               5.0          0  \n",
       "1                 DVD               5.0          1  \n",
       "2                 DVD               5.0          6  \n",
       "3                 DVD               5.0          3  \n",
       "4                 DVD               5.0          2  "
      ]
     },
     "execution_count": 30,
     "metadata": {},
     "output_type": "execute_result"
    }
   ],
   "source": [
    "train_data.head()"
   ]
  },
  {
   "cell_type": "code",
   "execution_count": 31,
   "metadata": {},
   "outputs": [],
   "source": [
    "train_data['holiday'] = train_data['date'].apply(lambda x:1 if (x.weekday() >= 5)or(jpholiday.is_holiday(x)) else 0)"
   ]
  },
  {
   "cell_type": "code",
   "execution_count": 32,
   "metadata": {},
   "outputs": [
    {
     "data": {
      "text/html": [
       "<div>\n",
       "<style scoped>\n",
       "    .dataframe tbody tr th:only-of-type {\n",
       "        vertical-align: middle;\n",
       "    }\n",
       "\n",
       "    .dataframe tbody tr th {\n",
       "        vertical-align: top;\n",
       "    }\n",
       "\n",
       "    .dataframe thead th {\n",
       "        text-align: right;\n",
       "    }\n",
       "</style>\n",
       "<table border=\"1\" class=\"dataframe\">\n",
       "  <thead>\n",
       "    <tr style=\"text-align: right;\">\n",
       "      <th></th>\n",
       "      <th>date</th>\n",
       "      <th>store_id</th>\n",
       "      <th>product_id</th>\n",
       "      <th>product_price</th>\n",
       "      <th>sale_num</th>\n",
       "      <th>month</th>\n",
       "      <th>product_categoryId</th>\n",
       "      <th>product_categoryName</th>\n",
       "      <th>wide_categoryName</th>\n",
       "      <th>narrow_categoryName</th>\n",
       "      <th>sale_num_monthly</th>\n",
       "      <th>dayofweek</th>\n",
       "      <th>holiday</th>\n",
       "    </tr>\n",
       "  </thead>\n",
       "  <tbody>\n",
       "    <tr>\n",
       "      <th>0</th>\n",
       "      <td>2018-01-01</td>\n",
       "      <td>9</td>\n",
       "      <td>1000001</td>\n",
       "      <td>420</td>\n",
       "      <td>1.0</td>\n",
       "      <td>201801</td>\n",
       "      <td>100</td>\n",
       "      <td>映画 - DVD</td>\n",
       "      <td>映画</td>\n",
       "      <td>DVD</td>\n",
       "      <td>5.0</td>\n",
       "      <td>0</td>\n",
       "      <td>1</td>\n",
       "    </tr>\n",
       "    <tr>\n",
       "      <th>1</th>\n",
       "      <td>2018-01-02</td>\n",
       "      <td>9</td>\n",
       "      <td>1000001</td>\n",
       "      <td>420</td>\n",
       "      <td>1.0</td>\n",
       "      <td>201801</td>\n",
       "      <td>100</td>\n",
       "      <td>映画 - DVD</td>\n",
       "      <td>映画</td>\n",
       "      <td>DVD</td>\n",
       "      <td>5.0</td>\n",
       "      <td>1</td>\n",
       "      <td>0</td>\n",
       "    </tr>\n",
       "    <tr>\n",
       "      <th>2</th>\n",
       "      <td>2018-01-14</td>\n",
       "      <td>9</td>\n",
       "      <td>1000001</td>\n",
       "      <td>420</td>\n",
       "      <td>1.0</td>\n",
       "      <td>201801</td>\n",
       "      <td>100</td>\n",
       "      <td>映画 - DVD</td>\n",
       "      <td>映画</td>\n",
       "      <td>DVD</td>\n",
       "      <td>5.0</td>\n",
       "      <td>6</td>\n",
       "      <td>1</td>\n",
       "    </tr>\n",
       "    <tr>\n",
       "      <th>3</th>\n",
       "      <td>2018-01-25</td>\n",
       "      <td>9</td>\n",
       "      <td>1000001</td>\n",
       "      <td>420</td>\n",
       "      <td>1.0</td>\n",
       "      <td>201801</td>\n",
       "      <td>100</td>\n",
       "      <td>映画 - DVD</td>\n",
       "      <td>映画</td>\n",
       "      <td>DVD</td>\n",
       "      <td>5.0</td>\n",
       "      <td>3</td>\n",
       "      <td>0</td>\n",
       "    </tr>\n",
       "    <tr>\n",
       "      <th>4</th>\n",
       "      <td>2018-01-31</td>\n",
       "      <td>9</td>\n",
       "      <td>1000001</td>\n",
       "      <td>420</td>\n",
       "      <td>1.0</td>\n",
       "      <td>201801</td>\n",
       "      <td>100</td>\n",
       "      <td>映画 - DVD</td>\n",
       "      <td>映画</td>\n",
       "      <td>DVD</td>\n",
       "      <td>5.0</td>\n",
       "      <td>2</td>\n",
       "      <td>0</td>\n",
       "    </tr>\n",
       "  </tbody>\n",
       "</table>\n",
       "</div>"
      ],
      "text/plain": [
       "        date  store_id  product_id  product_price  sale_num   month  \\\n",
       "0 2018-01-01         9     1000001            420       1.0  201801   \n",
       "1 2018-01-02         9     1000001            420       1.0  201801   \n",
       "2 2018-01-14         9     1000001            420       1.0  201801   \n",
       "3 2018-01-25         9     1000001            420       1.0  201801   \n",
       "4 2018-01-31         9     1000001            420       1.0  201801   \n",
       "\n",
       "   product_categoryId product_categoryName wide_categoryName  \\\n",
       "0                 100             映画 - DVD                映画   \n",
       "1                 100             映画 - DVD                映画   \n",
       "2                 100             映画 - DVD                映画   \n",
       "3                 100             映画 - DVD                映画   \n",
       "4                 100             映画 - DVD                映画   \n",
       "\n",
       "  narrow_categoryName  sale_num_monthly  dayofweek  holiday  \n",
       "0                 DVD               5.0          0        1  \n",
       "1                 DVD               5.0          1        0  \n",
       "2                 DVD               5.0          6        1  \n",
       "3                 DVD               5.0          3        0  \n",
       "4                 DVD               5.0          2        0  "
      ]
     },
     "execution_count": 32,
     "metadata": {},
     "output_type": "execute_result"
    }
   ],
   "source": [
    "train_data.head()"
   ]
  },
  {
   "cell_type": "markdown",
   "metadata": {},
   "source": [
    "### トレンド"
   ]
  },
  {
   "cell_type": "code",
   "execution_count": 33,
   "metadata": {},
   "outputs": [
    {
     "data": {
      "text/html": [
       "<div>\n",
       "<style scoped>\n",
       "    .dataframe tbody tr th:only-of-type {\n",
       "        vertical-align: middle;\n",
       "    }\n",
       "\n",
       "    .dataframe tbody tr th {\n",
       "        vertical-align: top;\n",
       "    }\n",
       "\n",
       "    .dataframe thead th {\n",
       "        text-align: right;\n",
       "    }\n",
       "</style>\n",
       "<table border=\"1\" class=\"dataframe\">\n",
       "  <thead>\n",
       "    <tr style=\"text-align: right;\">\n",
       "      <th></th>\n",
       "      <th>date</th>\n",
       "      <th>store_id</th>\n",
       "      <th>product_id</th>\n",
       "      <th>product_price</th>\n",
       "      <th>sale_num</th>\n",
       "      <th>month</th>\n",
       "      <th>product_categoryId</th>\n",
       "      <th>product_categoryName</th>\n",
       "      <th>wide_categoryName</th>\n",
       "      <th>narrow_categoryName</th>\n",
       "      <th>sale_num_monthly</th>\n",
       "      <th>dayofweek</th>\n",
       "      <th>holiday</th>\n",
       "    </tr>\n",
       "  </thead>\n",
       "  <tbody>\n",
       "    <tr>\n",
       "      <th>0</th>\n",
       "      <td>2018-01-01</td>\n",
       "      <td>9</td>\n",
       "      <td>1000001</td>\n",
       "      <td>420</td>\n",
       "      <td>1.0</td>\n",
       "      <td>201801</td>\n",
       "      <td>100</td>\n",
       "      <td>映画 - DVD</td>\n",
       "      <td>映画</td>\n",
       "      <td>DVD</td>\n",
       "      <td>5.0</td>\n",
       "      <td>0</td>\n",
       "      <td>1</td>\n",
       "    </tr>\n",
       "    <tr>\n",
       "      <th>1</th>\n",
       "      <td>2018-01-02</td>\n",
       "      <td>9</td>\n",
       "      <td>1000001</td>\n",
       "      <td>420</td>\n",
       "      <td>1.0</td>\n",
       "      <td>201801</td>\n",
       "      <td>100</td>\n",
       "      <td>映画 - DVD</td>\n",
       "      <td>映画</td>\n",
       "      <td>DVD</td>\n",
       "      <td>5.0</td>\n",
       "      <td>1</td>\n",
       "      <td>0</td>\n",
       "    </tr>\n",
       "    <tr>\n",
       "      <th>2</th>\n",
       "      <td>2018-01-14</td>\n",
       "      <td>9</td>\n",
       "      <td>1000001</td>\n",
       "      <td>420</td>\n",
       "      <td>1.0</td>\n",
       "      <td>201801</td>\n",
       "      <td>100</td>\n",
       "      <td>映画 - DVD</td>\n",
       "      <td>映画</td>\n",
       "      <td>DVD</td>\n",
       "      <td>5.0</td>\n",
       "      <td>6</td>\n",
       "      <td>1</td>\n",
       "    </tr>\n",
       "    <tr>\n",
       "      <th>3</th>\n",
       "      <td>2018-01-25</td>\n",
       "      <td>9</td>\n",
       "      <td>1000001</td>\n",
       "      <td>420</td>\n",
       "      <td>1.0</td>\n",
       "      <td>201801</td>\n",
       "      <td>100</td>\n",
       "      <td>映画 - DVD</td>\n",
       "      <td>映画</td>\n",
       "      <td>DVD</td>\n",
       "      <td>5.0</td>\n",
       "      <td>3</td>\n",
       "      <td>0</td>\n",
       "    </tr>\n",
       "    <tr>\n",
       "      <th>4</th>\n",
       "      <td>2018-01-31</td>\n",
       "      <td>9</td>\n",
       "      <td>1000001</td>\n",
       "      <td>420</td>\n",
       "      <td>1.0</td>\n",
       "      <td>201801</td>\n",
       "      <td>100</td>\n",
       "      <td>映画 - DVD</td>\n",
       "      <td>映画</td>\n",
       "      <td>DVD</td>\n",
       "      <td>5.0</td>\n",
       "      <td>2</td>\n",
       "      <td>0</td>\n",
       "    </tr>\n",
       "  </tbody>\n",
       "</table>\n",
       "</div>"
      ],
      "text/plain": [
       "        date  store_id  product_id  product_price  sale_num   month  \\\n",
       "0 2018-01-01         9     1000001            420       1.0  201801   \n",
       "1 2018-01-02         9     1000001            420       1.0  201801   \n",
       "2 2018-01-14         9     1000001            420       1.0  201801   \n",
       "3 2018-01-25         9     1000001            420       1.0  201801   \n",
       "4 2018-01-31         9     1000001            420       1.0  201801   \n",
       "\n",
       "   product_categoryId product_categoryName wide_categoryName  \\\n",
       "0                 100             映画 - DVD                映画   \n",
       "1                 100             映画 - DVD                映画   \n",
       "2                 100             映画 - DVD                映画   \n",
       "3                 100             映画 - DVD                映画   \n",
       "4                 100             映画 - DVD                映画   \n",
       "\n",
       "  narrow_categoryName  sale_num_monthly  dayofweek  holiday  \n",
       "0                 DVD               5.0          0        1  \n",
       "1                 DVD               5.0          1        0  \n",
       "2                 DVD               5.0          6        1  \n",
       "3                 DVD               5.0          3        0  \n",
       "4                 DVD               5.0          2        0  "
      ]
     },
     "execution_count": 33,
     "metadata": {},
     "output_type": "execute_result"
    }
   ],
   "source": [
    "train_data.head()"
   ]
  },
  {
   "cell_type": "code",
   "execution_count": 34,
   "metadata": {},
   "outputs": [
    {
     "data": {
      "text/html": [
       "<div>\n",
       "<style scoped>\n",
       "    .dataframe tbody tr th:only-of-type {\n",
       "        vertical-align: middle;\n",
       "    }\n",
       "\n",
       "    .dataframe tbody tr th {\n",
       "        vertical-align: top;\n",
       "    }\n",
       "\n",
       "    .dataframe thead th {\n",
       "        text-align: right;\n",
       "    }\n",
       "</style>\n",
       "<table border=\"1\" class=\"dataframe\">\n",
       "  <thead>\n",
       "    <tr style=\"text-align: right;\">\n",
       "      <th></th>\n",
       "      <th>date</th>\n",
       "      <th>store_id</th>\n",
       "      <th>product_id</th>\n",
       "      <th>product_price</th>\n",
       "      <th>sale_num</th>\n",
       "      <th>product_categoryId</th>\n",
       "      <th>product_categoryName</th>\n",
       "      <th>wide_categoryName</th>\n",
       "      <th>narrow_categoryName</th>\n",
       "      <th>sale_num_monthly</th>\n",
       "      <th>dayofweek</th>\n",
       "      <th>holiday</th>\n",
       "    </tr>\n",
       "    <tr>\n",
       "      <th>month</th>\n",
       "      <th></th>\n",
       "      <th></th>\n",
       "      <th></th>\n",
       "      <th></th>\n",
       "      <th></th>\n",
       "      <th></th>\n",
       "      <th></th>\n",
       "      <th></th>\n",
       "      <th></th>\n",
       "      <th></th>\n",
       "      <th></th>\n",
       "      <th></th>\n",
       "    </tr>\n",
       "  </thead>\n",
       "  <tbody>\n",
       "    <tr>\n",
       "      <th>201801</th>\n",
       "      <td>62087</td>\n",
       "      <td>62087</td>\n",
       "      <td>62087</td>\n",
       "      <td>62087</td>\n",
       "      <td>62087</td>\n",
       "      <td>62087</td>\n",
       "      <td>62087</td>\n",
       "      <td>62087</td>\n",
       "      <td>62087</td>\n",
       "      <td>62087</td>\n",
       "      <td>62087</td>\n",
       "      <td>62087</td>\n",
       "    </tr>\n",
       "    <tr>\n",
       "      <th>201802</th>\n",
       "      <td>59395</td>\n",
       "      <td>59395</td>\n",
       "      <td>59395</td>\n",
       "      <td>59395</td>\n",
       "      <td>59395</td>\n",
       "      <td>59395</td>\n",
       "      <td>59395</td>\n",
       "      <td>59395</td>\n",
       "      <td>59395</td>\n",
       "      <td>59395</td>\n",
       "      <td>59395</td>\n",
       "      <td>59395</td>\n",
       "    </tr>\n",
       "    <tr>\n",
       "      <th>201803</th>\n",
       "      <td>65484</td>\n",
       "      <td>65484</td>\n",
       "      <td>65484</td>\n",
       "      <td>65484</td>\n",
       "      <td>65484</td>\n",
       "      <td>65484</td>\n",
       "      <td>65484</td>\n",
       "      <td>65484</td>\n",
       "      <td>65484</td>\n",
       "      <td>65484</td>\n",
       "      <td>65484</td>\n",
       "      <td>65484</td>\n",
       "    </tr>\n",
       "    <tr>\n",
       "      <th>201804</th>\n",
       "      <td>50949</td>\n",
       "      <td>50949</td>\n",
       "      <td>50949</td>\n",
       "      <td>50949</td>\n",
       "      <td>50949</td>\n",
       "      <td>50949</td>\n",
       "      <td>50949</td>\n",
       "      <td>50949</td>\n",
       "      <td>50949</td>\n",
       "      <td>50949</td>\n",
       "      <td>50949</td>\n",
       "      <td>50949</td>\n",
       "    </tr>\n",
       "    <tr>\n",
       "      <th>201805</th>\n",
       "      <td>48875</td>\n",
       "      <td>48875</td>\n",
       "      <td>48875</td>\n",
       "      <td>48875</td>\n",
       "      <td>48875</td>\n",
       "      <td>48875</td>\n",
       "      <td>48875</td>\n",
       "      <td>48875</td>\n",
       "      <td>48875</td>\n",
       "      <td>48875</td>\n",
       "      <td>48875</td>\n",
       "      <td>48875</td>\n",
       "    </tr>\n",
       "    <tr>\n",
       "      <th>201806</th>\n",
       "      <td>55827</td>\n",
       "      <td>55827</td>\n",
       "      <td>55827</td>\n",
       "      <td>55827</td>\n",
       "      <td>55827</td>\n",
       "      <td>55827</td>\n",
       "      <td>55827</td>\n",
       "      <td>55827</td>\n",
       "      <td>55827</td>\n",
       "      <td>55827</td>\n",
       "      <td>55827</td>\n",
       "      <td>55827</td>\n",
       "    </tr>\n",
       "    <tr>\n",
       "      <th>201807</th>\n",
       "      <td>55921</td>\n",
       "      <td>55921</td>\n",
       "      <td>55921</td>\n",
       "      <td>55921</td>\n",
       "      <td>55921</td>\n",
       "      <td>55921</td>\n",
       "      <td>55921</td>\n",
       "      <td>55921</td>\n",
       "      <td>55921</td>\n",
       "      <td>55921</td>\n",
       "      <td>55921</td>\n",
       "      <td>55921</td>\n",
       "    </tr>\n",
       "    <tr>\n",
       "      <th>201808</th>\n",
       "      <td>58269</td>\n",
       "      <td>58269</td>\n",
       "      <td>58269</td>\n",
       "      <td>58269</td>\n",
       "      <td>58269</td>\n",
       "      <td>58269</td>\n",
       "      <td>58269</td>\n",
       "      <td>58269</td>\n",
       "      <td>58269</td>\n",
       "      <td>58269</td>\n",
       "      <td>58269</td>\n",
       "      <td>58269</td>\n",
       "    </tr>\n",
       "    <tr>\n",
       "      <th>201809</th>\n",
       "      <td>51204</td>\n",
       "      <td>51204</td>\n",
       "      <td>51204</td>\n",
       "      <td>51204</td>\n",
       "      <td>51204</td>\n",
       "      <td>51204</td>\n",
       "      <td>51204</td>\n",
       "      <td>51204</td>\n",
       "      <td>51204</td>\n",
       "      <td>51204</td>\n",
       "      <td>51204</td>\n",
       "      <td>51204</td>\n",
       "    </tr>\n",
       "    <tr>\n",
       "      <th>201810</th>\n",
       "      <td>49956</td>\n",
       "      <td>49956</td>\n",
       "      <td>49956</td>\n",
       "      <td>49956</td>\n",
       "      <td>49956</td>\n",
       "      <td>49956</td>\n",
       "      <td>49956</td>\n",
       "      <td>49956</td>\n",
       "      <td>49956</td>\n",
       "      <td>49956</td>\n",
       "      <td>49956</td>\n",
       "      <td>49956</td>\n",
       "    </tr>\n",
       "    <tr>\n",
       "      <th>201811</th>\n",
       "      <td>52881</td>\n",
       "      <td>52881</td>\n",
       "      <td>52881</td>\n",
       "      <td>52881</td>\n",
       "      <td>52881</td>\n",
       "      <td>52881</td>\n",
       "      <td>52881</td>\n",
       "      <td>52881</td>\n",
       "      <td>52881</td>\n",
       "      <td>52881</td>\n",
       "      <td>52881</td>\n",
       "      <td>52881</td>\n",
       "    </tr>\n",
       "    <tr>\n",
       "      <th>201812</th>\n",
       "      <td>76408</td>\n",
       "      <td>76408</td>\n",
       "      <td>76408</td>\n",
       "      <td>76408</td>\n",
       "      <td>76408</td>\n",
       "      <td>76408</td>\n",
       "      <td>76408</td>\n",
       "      <td>76408</td>\n",
       "      <td>76408</td>\n",
       "      <td>76408</td>\n",
       "      <td>76408</td>\n",
       "      <td>76408</td>\n",
       "    </tr>\n",
       "    <tr>\n",
       "      <th>201901</th>\n",
       "      <td>53373</td>\n",
       "      <td>53373</td>\n",
       "      <td>53373</td>\n",
       "      <td>53373</td>\n",
       "      <td>53373</td>\n",
       "      <td>53373</td>\n",
       "      <td>53373</td>\n",
       "      <td>53373</td>\n",
       "      <td>53373</td>\n",
       "      <td>53373</td>\n",
       "      <td>53373</td>\n",
       "      <td>53373</td>\n",
       "    </tr>\n",
       "    <tr>\n",
       "      <th>201902</th>\n",
       "      <td>48110</td>\n",
       "      <td>48110</td>\n",
       "      <td>48110</td>\n",
       "      <td>48110</td>\n",
       "      <td>48110</td>\n",
       "      <td>48110</td>\n",
       "      <td>48110</td>\n",
       "      <td>48110</td>\n",
       "      <td>48110</td>\n",
       "      <td>48110</td>\n",
       "      <td>48110</td>\n",
       "      <td>48110</td>\n",
       "    </tr>\n",
       "    <tr>\n",
       "      <th>201903</th>\n",
       "      <td>49794</td>\n",
       "      <td>49794</td>\n",
       "      <td>49794</td>\n",
       "      <td>49794</td>\n",
       "      <td>49794</td>\n",
       "      <td>49794</td>\n",
       "      <td>49794</td>\n",
       "      <td>49794</td>\n",
       "      <td>49794</td>\n",
       "      <td>49794</td>\n",
       "      <td>49794</td>\n",
       "      <td>49794</td>\n",
       "    </tr>\n",
       "    <tr>\n",
       "      <th>201904</th>\n",
       "      <td>41232</td>\n",
       "      <td>41232</td>\n",
       "      <td>41232</td>\n",
       "      <td>41232</td>\n",
       "      <td>41232</td>\n",
       "      <td>41232</td>\n",
       "      <td>41232</td>\n",
       "      <td>41232</td>\n",
       "      <td>41232</td>\n",
       "      <td>41232</td>\n",
       "      <td>41232</td>\n",
       "      <td>41232</td>\n",
       "    </tr>\n",
       "    <tr>\n",
       "      <th>201905</th>\n",
       "      <td>40714</td>\n",
       "      <td>40714</td>\n",
       "      <td>40714</td>\n",
       "      <td>40714</td>\n",
       "      <td>40714</td>\n",
       "      <td>40714</td>\n",
       "      <td>40714</td>\n",
       "      <td>40714</td>\n",
       "      <td>40714</td>\n",
       "      <td>40714</td>\n",
       "      <td>40714</td>\n",
       "      <td>40714</td>\n",
       "    </tr>\n",
       "    <tr>\n",
       "      <th>201906</th>\n",
       "      <td>41748</td>\n",
       "      <td>41748</td>\n",
       "      <td>41748</td>\n",
       "      <td>41748</td>\n",
       "      <td>41748</td>\n",
       "      <td>41748</td>\n",
       "      <td>41748</td>\n",
       "      <td>41748</td>\n",
       "      <td>41748</td>\n",
       "      <td>41748</td>\n",
       "      <td>41748</td>\n",
       "      <td>41748</td>\n",
       "    </tr>\n",
       "    <tr>\n",
       "      <th>201907</th>\n",
       "      <td>41014</td>\n",
       "      <td>41014</td>\n",
       "      <td>41014</td>\n",
       "      <td>41014</td>\n",
       "      <td>41014</td>\n",
       "      <td>41014</td>\n",
       "      <td>41014</td>\n",
       "      <td>41014</td>\n",
       "      <td>41014</td>\n",
       "      <td>41014</td>\n",
       "      <td>41014</td>\n",
       "      <td>41014</td>\n",
       "    </tr>\n",
       "    <tr>\n",
       "      <th>201908</th>\n",
       "      <td>44167</td>\n",
       "      <td>44167</td>\n",
       "      <td>44167</td>\n",
       "      <td>44167</td>\n",
       "      <td>44167</td>\n",
       "      <td>44167</td>\n",
       "      <td>44167</td>\n",
       "      <td>44167</td>\n",
       "      <td>44167</td>\n",
       "      <td>44167</td>\n",
       "      <td>44167</td>\n",
       "      <td>44167</td>\n",
       "    </tr>\n",
       "    <tr>\n",
       "      <th>201909</th>\n",
       "      <td>34331</td>\n",
       "      <td>34331</td>\n",
       "      <td>34331</td>\n",
       "      <td>34331</td>\n",
       "      <td>34331</td>\n",
       "      <td>34331</td>\n",
       "      <td>34331</td>\n",
       "      <td>34331</td>\n",
       "      <td>34331</td>\n",
       "      <td>34331</td>\n",
       "      <td>34331</td>\n",
       "      <td>34331</td>\n",
       "    </tr>\n",
       "    <tr>\n",
       "      <th>201910</th>\n",
       "      <td>37831</td>\n",
       "      <td>37831</td>\n",
       "      <td>37831</td>\n",
       "      <td>37831</td>\n",
       "      <td>37831</td>\n",
       "      <td>37831</td>\n",
       "      <td>37831</td>\n",
       "      <td>37831</td>\n",
       "      <td>37831</td>\n",
       "      <td>37831</td>\n",
       "      <td>37831</td>\n",
       "      <td>37831</td>\n",
       "    </tr>\n",
       "  </tbody>\n",
       "</table>\n",
       "</div>"
      ],
      "text/plain": [
       "         date  store_id  product_id  product_price  sale_num  \\\n",
       "month                                                          \n",
       "201801  62087     62087       62087          62087     62087   \n",
       "201802  59395     59395       59395          59395     59395   \n",
       "201803  65484     65484       65484          65484     65484   \n",
       "201804  50949     50949       50949          50949     50949   \n",
       "201805  48875     48875       48875          48875     48875   \n",
       "201806  55827     55827       55827          55827     55827   \n",
       "201807  55921     55921       55921          55921     55921   \n",
       "201808  58269     58269       58269          58269     58269   \n",
       "201809  51204     51204       51204          51204     51204   \n",
       "201810  49956     49956       49956          49956     49956   \n",
       "201811  52881     52881       52881          52881     52881   \n",
       "201812  76408     76408       76408          76408     76408   \n",
       "201901  53373     53373       53373          53373     53373   \n",
       "201902  48110     48110       48110          48110     48110   \n",
       "201903  49794     49794       49794          49794     49794   \n",
       "201904  41232     41232       41232          41232     41232   \n",
       "201905  40714     40714       40714          40714     40714   \n",
       "201906  41748     41748       41748          41748     41748   \n",
       "201907  41014     41014       41014          41014     41014   \n",
       "201908  44167     44167       44167          44167     44167   \n",
       "201909  34331     34331       34331          34331     34331   \n",
       "201910  37831     37831       37831          37831     37831   \n",
       "\n",
       "        product_categoryId  product_categoryName  wide_categoryName  \\\n",
       "month                                                                 \n",
       "201801               62087                 62087              62087   \n",
       "201802               59395                 59395              59395   \n",
       "201803               65484                 65484              65484   \n",
       "201804               50949                 50949              50949   \n",
       "201805               48875                 48875              48875   \n",
       "201806               55827                 55827              55827   \n",
       "201807               55921                 55921              55921   \n",
       "201808               58269                 58269              58269   \n",
       "201809               51204                 51204              51204   \n",
       "201810               49956                 49956              49956   \n",
       "201811               52881                 52881              52881   \n",
       "201812               76408                 76408              76408   \n",
       "201901               53373                 53373              53373   \n",
       "201902               48110                 48110              48110   \n",
       "201903               49794                 49794              49794   \n",
       "201904               41232                 41232              41232   \n",
       "201905               40714                 40714              40714   \n",
       "201906               41748                 41748              41748   \n",
       "201907               41014                 41014              41014   \n",
       "201908               44167                 44167              44167   \n",
       "201909               34331                 34331              34331   \n",
       "201910               37831                 37831              37831   \n",
       "\n",
       "        narrow_categoryName  sale_num_monthly  dayofweek  holiday  \n",
       "month                                                              \n",
       "201801                62087             62087      62087    62087  \n",
       "201802                59395             59395      59395    59395  \n",
       "201803                65484             65484      65484    65484  \n",
       "201804                50949             50949      50949    50949  \n",
       "201805                48875             48875      48875    48875  \n",
       "201806                55827             55827      55827    55827  \n",
       "201807                55921             55921      55921    55921  \n",
       "201808                58269             58269      58269    58269  \n",
       "201809                51204             51204      51204    51204  \n",
       "201810                49956             49956      49956    49956  \n",
       "201811                52881             52881      52881    52881  \n",
       "201812                76408             76408      76408    76408  \n",
       "201901                53373             53373      53373    53373  \n",
       "201902                48110             48110      48110    48110  \n",
       "201903                49794             49794      49794    49794  \n",
       "201904                41232             41232      41232    41232  \n",
       "201905                40714             40714      40714    40714  \n",
       "201906                41748             41748      41748    41748  \n",
       "201907                41014             41014      41014    41014  \n",
       "201908                44167             44167      44167    44167  \n",
       "201909                34331             34331      34331    34331  \n",
       "201910                37831             37831      37831    37831  "
      ]
     },
     "execution_count": 34,
     "metadata": {},
     "output_type": "execute_result"
    }
   ],
   "source": [
    "date_group = train_data.groupby(\"month\")\n",
    "date_group.count()"
   ]
  },
  {
   "cell_type": "code",
   "execution_count": null,
   "metadata": {},
   "outputs": [],
   "source": []
  },
  {
   "cell_type": "code",
   "execution_count": null,
   "metadata": {},
   "outputs": [],
   "source": []
  },
  {
   "cell_type": "code",
   "execution_count": null,
   "metadata": {},
   "outputs": [],
   "source": []
  },
  {
   "cell_type": "code",
   "execution_count": null,
   "metadata": {},
   "outputs": [],
   "source": []
  },
  {
   "cell_type": "code",
   "execution_count": null,
   "metadata": {},
   "outputs": [],
   "source": []
  },
  {
   "cell_type": "code",
   "execution_count": 35,
   "metadata": {},
   "outputs": [
    {
     "data": {
      "text/plain": [
       "array(['DVD', '通常版', 'その他', 'ゲーム機C', 'ブルーレイ', 'ゲーム機B', '小型ゲーム',\n",
       "       'カード、パズル等', 'フィギュア', 'PCソフト', 'ブルーレイ3D', 'ぬいぐるみ', 'ゲーム機A', 'セット商品',\n",
       "       'ボードゲーム', 'CD', 'ガジェット類', 'オーディオブック_タイプA', '記念品_タイプA', '記念品_タイプB',\n",
       "       '教育用', '付属品(購入特典)', 'オーディオブック_タイプB', 'レコード'], dtype=object)"
      ]
     },
     "execution_count": 35,
     "metadata": {},
     "output_type": "execute_result"
    }
   ],
   "source": [
    "train_data['narrow_categoryName'].unique()"
   ]
  },
  {
   "cell_type": "code",
   "execution_count": null,
   "metadata": {},
   "outputs": [],
   "source": []
  },
  {
   "cell_type": "markdown",
   "metadata": {},
   "source": [
    "## これからのタスク"
   ]
  },
  {
   "cell_type": "markdown",
   "metadata": {},
   "source": [
    "・売り上げの幅を金額にする<br>\n",
    "・移動平均を出す<br>\n",
    "・異常値はあるか<br>\n",
    "・自己相関を出す<br>\n",
    "・ラグnの移動平均<br>\n",
    "・偏自己相関を出す\n"
   ]
  },
  {
   "cell_type": "code",
   "execution_count": null,
   "metadata": {},
   "outputs": [],
   "source": []
  },
  {
   "cell_type": "code",
   "execution_count": null,
   "metadata": {},
   "outputs": [],
   "source": []
  }
 ],
 "metadata": {
  "kernelspec": {
   "display_name": "Python 3",
   "language": "python",
   "name": "python3"
  },
  "language_info": {
   "codemirror_mode": {
    "name": "ipython",
    "version": 3
   },
   "file_extension": ".py",
   "mimetype": "text/x-python",
   "name": "python",
   "nbconvert_exporter": "python",
   "pygments_lexer": "ipython3",
   "version": "3.7.7"
  }
 },
 "nbformat": 4,
 "nbformat_minor": 4
}
